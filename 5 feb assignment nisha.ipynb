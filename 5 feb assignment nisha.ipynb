{
 "cells": [
  {
   "cell_type": "code",
   "execution_count": null,
   "id": "e81a7d91-d366-48ec-9d33-fd8db3b80e1e",
   "metadata": {},
   "outputs": [],
   "source": []
  },
  {
   "cell_type": "code",
   "execution_count": null,
   "id": "7dcf2dae-eb94-48b9-922d-94e060aee54e",
   "metadata": {},
   "outputs": [],
   "source": [
    "#ques_1 Answer:\n",
    "with respect to object-oriented programming, a class is a template for defining objects. It specifies the names and types of variables that can exist in an object, as well as \"methods\" procedures for operating on those variables. A class can be thought of as a \"type\", \n",
    "and  the objects are being a \"variable\" of that type.and  the objects are being a \"variable\" of that type.\n",
    "basically a class describes the contents of the objects that belong to it: it describes an aggregate of data fields (called instance variables), and defines the operations (called methods). \n",
    "while an object is an element (or instance) of a class; objects have the behaviors of their class.\n",
    "\n",
    "\n",
    "#ques_2 Answer:\n",
    "The four pillars of OOPS are Inheritance, Polymorphism, Encapsulation and Abstraction."
   ]
  },
  {
   "cell_type": "code",
   "execution_count": 1,
   "id": "063d9757-cfc2-4763-9af7-91f63b194302",
   "metadata": {},
   "outputs": [
    {
     "name": "stdout",
     "output_type": "stream",
     "text": [
      "John\n",
      "36\n"
     ]
    }
   ],
   "source": [
    "#ques_3 Answer:\n",
    "\n",
    "#To understand the meaning of classes we have to understand the built-in __init__() function.\n",
    "#All classes have a function called __init__(), which is always executed when the class is being initiated.\n",
    "#Use the __init__() function to assign values to object properties, or other operations that are necessary to do when the object is being created:\n",
    "class Person:\n",
    "  def __init__(self, name, age):\n",
    "    self.name = name\n",
    "    self.age = age\n",
    "\n",
    "p1 = Person(\"John\", 36)\n",
    "\n",
    "print(p1.name)\n",
    "print(p1.age)\n"
   ]
  },
  {
   "cell_type": "code",
   "execution_count": 29,
   "id": "30b96ba0-c44b-42b8-96af-4a55c93aba16",
   "metadata": {},
   "outputs": [],
   "source": [
    "#ques_4 Answer:\n",
    "\n",
    "#Inheritance relationship defines the classes that inherit from other classes as derived, subclass, or sub-type classes. Base class remains to be the source from which a subclass inherits.\n",
    "#For example, you have a Base class of “Animal,” and a “Lion” is a Derived class. The inheritance will be Lion is an Animal.  \n",
    "class animal :\n",
    "    def msg(self):\n",
    "        print(\"lion is an animal\")\n",
    "        "
   ]
  },
  {
   "cell_type": "code",
   "execution_count": 28,
   "id": "6da4b5b7-a263-4112-ac96-82bc0a03f0d8",
   "metadata": {},
   "outputs": [],
   "source": [
    "lion = animal()"
   ]
  },
  {
   "cell_type": "code",
   "execution_count": 25,
   "id": "2510ab02-6b3b-45cd-ac55-bfe59e7cfb9a",
   "metadata": {},
   "outputs": [
    {
     "name": "stdout",
     "output_type": "stream",
     "text": [
      "<class '__main__.animal'>\n"
     ]
    }
   ],
   "source": [
    "print(type(lion))"
   ]
  },
  {
   "cell_type": "code",
   "execution_count": 30,
   "id": "056c559f-478b-423f-ac49-996fee57aae2",
   "metadata": {},
   "outputs": [
    {
     "data": {
      "text/plain": [
       "<bound method animal.msg of <__main__.animal object at 0x7fe74d748e20>>"
      ]
     },
     "execution_count": 30,
     "metadata": {},
     "output_type": "execute_result"
    }
   ],
   "source": [
    "lion.msg()"
   ]
  },
  {
   "cell_type": "code",
   "execution_count": null,
   "id": "3a884a3f-c99c-406c-9a04-ea6557f3d92a",
   "metadata": {},
   "outputs": [],
   "source": []
  }
 ],
 "metadata": {
  "kernelspec": {
   "display_name": "Python 3 (ipykernel)",
   "language": "python",
   "name": "python3"
  },
  "language_info": {
   "codemirror_mode": {
    "name": "ipython",
    "version": 3
   },
   "file_extension": ".py",
   "mimetype": "text/x-python",
   "name": "python",
   "nbconvert_exporter": "python",
   "pygments_lexer": "ipython3",
   "version": "3.10.6"
  }
 },
 "nbformat": 4,
 "nbformat_minor": 5
}
